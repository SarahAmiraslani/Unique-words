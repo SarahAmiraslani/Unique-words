{
 "cells": [
  {
   "cell_type": "markdown",
   "metadata": {},
   "source": [
    "# Unique word calculator"
   ]
  },
  {
   "cell_type": "markdown",
   "metadata": {},
   "source": [
    "Given an excel document, the following code uses pandas to count the the number of unique words in a cell and save the counts in a new column. Note that the code does not yet account for spelling mistakes."
   ]
  },
  {
   "cell_type": "code",
   "execution_count": 1,
   "metadata": {},
   "outputs": [],
   "source": [
    "import sys\n",
    "# !{sys.executable} -m pip install openpyxl --user\n",
    "# !{sys.executable} -m pip install pyspellchecker --user"
   ]
  },
  {
   "cell_type": "code",
   "execution_count": 16,
   "metadata": {},
   "outputs": [],
   "source": [
    "import pandas as pd\n",
    "import string\n",
    "from pandas import ExcelWriter\n",
    "from spellchecker import spellchecker\n",
    "df = pd.read_excel(\"./words_sample.xlsx\",header=1)\n",
    "\n",
    "values = df.values[:]  # does not count the header"
   ]
  },
  {
   "cell_type": "code",
   "execution_count": 17,
   "metadata": {},
   "outputs": [
    {
     "data": {
      "text/html": [
       "<div>\n",
       "<style scoped>\n",
       "    .dataframe tbody tr th:only-of-type {\n",
       "        vertical-align: middle;\n",
       "    }\n",
       "\n",
       "    .dataframe tbody tr th {\n",
       "        vertical-align: top;\n",
       "    }\n",
       "\n",
       "    .dataframe thead th {\n",
       "        text-align: right;\n",
       "    }\n",
       "</style>\n",
       "<table border=\"1\" class=\"dataframe\">\n",
       "  <thead>\n",
       "    <tr style=\"text-align: right;\">\n",
       "      <th></th>\n",
       "      <th>All Retention</th>\n",
       "    </tr>\n",
       "  </thead>\n",
       "  <tbody>\n",
       "    <tr>\n",
       "      <th>0</th>\n",
       "      <td>A black hole is an indefinite space. It is nam...</td>\n",
       "    </tr>\n",
       "    <tr>\n",
       "      <th>1</th>\n",
       "      <td>a black hole is a hole in space that is black ...</td>\n",
       "    </tr>\n",
       "    <tr>\n",
       "      <th>2</th>\n",
       "      <td>A supermassive object with gravitational pull ...</td>\n",
       "    </tr>\n",
       "    <tr>\n",
       "      <th>3</th>\n",
       "      <td>Black hole is a \"hole\" in the universe that ab...</td>\n",
       "    </tr>\n",
       "    <tr>\n",
       "      <th>4</th>\n",
       "      <td>EXCLUDE from analysis. Participant mistakenly ...</td>\n",
       "    </tr>\n",
       "  </tbody>\n",
       "</table>\n",
       "</div>"
      ],
      "text/plain": [
       "                                       All Retention\n",
       "0  A black hole is an indefinite space. It is nam...\n",
       "1  a black hole is a hole in space that is black ...\n",
       "2  A supermassive object with gravitational pull ...\n",
       "3  Black hole is a \"hole\" in the universe that ab...\n",
       "4  EXCLUDE from analysis. Participant mistakenly ..."
      ]
     },
     "execution_count": 17,
     "metadata": {},
     "output_type": "execute_result"
    }
   ],
   "source": [
    "df.head()"
   ]
  },
  {
   "cell_type": "code",
   "execution_count": 9,
   "metadata": {},
   "outputs": [],
   "source": [
    "def remove_punctuation(str1): \n",
    "    \n",
    "    for char in str1.lower():\n",
    "        \n",
    "        if char in string.punctuation: \n",
    "            \n",
    "            str1 = str1.replace(char,\"\")          \n",
    "    \n",
    "    return str1"
   ]
  },
  {
   "cell_type": "code",
   "execution_count": 10,
   "metadata": {},
   "outputs": [],
   "source": [
    "assert remove_punctuation('Hey!!@#$%%%%*^') == 'Hey'"
   ]
  },
  {
   "cell_type": "code",
   "execution_count": 13,
   "metadata": {
    "scrolled": false
   },
   "outputs": [],
   "source": [
    "def unique_word_calc(str1):\n",
    "    \n",
    "    text_str = str(str1).lower()\n",
    "    no_punct_str = remove_punctuation(text_str)\n",
    "\n",
    "    d = {} # initialize an empty dictionary\n",
    "    for word in no_punct_str.split():\n",
    "        try:\n",
    "            d[word] += 1 # the entry exists\n",
    "        except KeyError:\n",
    "            d[word] = 1 # a new entry\n",
    "        \n",
    "    return len(d.keys())"
   ]
  },
  {
   "cell_type": "code",
   "execution_count": 19,
   "metadata": {},
   "outputs": [],
   "source": [
    "df['ret_unique_wrds']= df['All Retention'].apply(unique_word_calc)"
   ]
  },
  {
   "cell_type": "code",
   "execution_count": 20,
   "metadata": {},
   "outputs": [
    {
     "data": {
      "text/html": [
       "<div>\n",
       "<style scoped>\n",
       "    .dataframe tbody tr th:only-of-type {\n",
       "        vertical-align: middle;\n",
       "    }\n",
       "\n",
       "    .dataframe tbody tr th {\n",
       "        vertical-align: top;\n",
       "    }\n",
       "\n",
       "    .dataframe thead th {\n",
       "        text-align: right;\n",
       "    }\n",
       "</style>\n",
       "<table border=\"1\" class=\"dataframe\">\n",
       "  <thead>\n",
       "    <tr style=\"text-align: right;\">\n",
       "      <th></th>\n",
       "      <th>All Retention</th>\n",
       "      <th>ret_unique_wrds</th>\n",
       "    </tr>\n",
       "  </thead>\n",
       "  <tbody>\n",
       "    <tr>\n",
       "      <th>0</th>\n",
       "      <td>A black hole is an indefinite space. It is nam...</td>\n",
       "      <td>48</td>\n",
       "    </tr>\n",
       "    <tr>\n",
       "      <th>1</th>\n",
       "      <td>a black hole is a hole in space that is black ...</td>\n",
       "      <td>29</td>\n",
       "    </tr>\n",
       "    <tr>\n",
       "      <th>2</th>\n",
       "      <td>A supermassive object with gravitational pull ...</td>\n",
       "      <td>69</td>\n",
       "    </tr>\n",
       "    <tr>\n",
       "      <th>3</th>\n",
       "      <td>Black hole is a \"hole\" in the universe that ab...</td>\n",
       "      <td>75</td>\n",
       "    </tr>\n",
       "    <tr>\n",
       "      <th>4</th>\n",
       "      <td>EXCLUDE from analysis. Participant mistakenly ...</td>\n",
       "      <td>19</td>\n",
       "    </tr>\n",
       "  </tbody>\n",
       "</table>\n",
       "</div>"
      ],
      "text/plain": [
       "                                       All Retention  ret_unique_wrds\n",
       "0  A black hole is an indefinite space. It is nam...               48\n",
       "1  a black hole is a hole in space that is black ...               29\n",
       "2  A supermassive object with gravitational pull ...               69\n",
       "3  Black hole is a \"hole\" in the universe that ab...               75\n",
       "4  EXCLUDE from analysis. Participant mistakenly ...               19"
      ]
     },
     "execution_count": 20,
     "metadata": {},
     "output_type": "execute_result"
    }
   ],
   "source": [
    "df.head()\n",
    "# the get_values() method gives: gives [['All Retention']['A black hole ...], ['a black hole is a hole in space ...],...]\n",
    "#values = df.get_values()[1:] # gives [['A black hole ...], ['a black hole is a hole in space ...],...]"
   ]
  },
  {
   "cell_type": "code",
   "execution_count": 11,
   "metadata": {},
   "outputs": [],
   "source": [
    "# Export\n",
    "# df.to_excel('export.xlsx')"
   ]
  }
 ],
 "metadata": {
  "kernelspec": {
   "display_name": "Python 3",
   "language": "python",
   "name": "python3"
  },
  "language_info": {
   "codemirror_mode": {
    "name": "ipython",
    "version": 3
   },
   "file_extension": ".py",
   "mimetype": "text/x-python",
   "name": "python",
   "nbconvert_exporter": "python",
   "pygments_lexer": "ipython3",
   "version": "3.7.1"
  }
 },
 "nbformat": 4,
 "nbformat_minor": 2
}
