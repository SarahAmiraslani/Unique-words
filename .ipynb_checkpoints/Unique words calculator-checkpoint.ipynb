{
 "cells": [
  {
   "cell_type": "markdown",
   "metadata": {},
   "source": [
    "# Unique word calculator"
   ]
  },
  {
   "cell_type": "markdown",
   "metadata": {},
   "source": [
    "Given an excel document, the following code uses pandas to count the the number of unique words in a cell and save the counts in a new column. Note that the code does not yet account for spelling mistakes."
   ]
  },
  {
   "cell_type": "code",
   "execution_count": 2,
   "metadata": {},
   "outputs": [],
   "source": [
    "import sys\n",
    "# !{sys.executable} -m pip install openpyxl --user\n",
    "# !{sys.executable} -m pip install pyspellchecker --user"
   ]
  },
  {
   "cell_type": "code",
   "execution_count": 3,
   "metadata": {},
   "outputs": [],
   "source": [
    "import pandas as pd\n",
    "import string\n",
    "from pandas import ExcelWriter\n",
    "from spellchecker import spellchecker\n",
    "df = pd.read_excel(\"./words_sample.xlsx\")\n",
    "\n",
    "values = df.values[1:]  # does not count the header"
   ]
  },
  {
   "cell_type": "code",
   "execution_count": 4,
   "metadata": {},
   "outputs": [
    {
     "data": {
      "text/html": [
       "<div>\n",
       "<style scoped>\n",
       "    .dataframe tbody tr th:only-of-type {\n",
       "        vertical-align: middle;\n",
       "    }\n",
       "\n",
       "    .dataframe tbody tr th {\n",
       "        vertical-align: top;\n",
       "    }\n",
       "\n",
       "    .dataframe thead th {\n",
       "        text-align: right;\n",
       "    }\n",
       "</style>\n",
       "<table border=\"1\" class=\"dataframe\">\n",
       "  <thead>\n",
       "    <tr style=\"text-align: right;\">\n",
       "      <th></th>\n",
       "      <th>Paragraph style</th>\n",
       "    </tr>\n",
       "  </thead>\n",
       "  <tbody>\n",
       "    <tr>\n",
       "      <th>0</th>\n",
       "      <td>All Retention</td>\n",
       "    </tr>\n",
       "    <tr>\n",
       "      <th>1</th>\n",
       "      <td>A black hole is an indefinite space. It is nam...</td>\n",
       "    </tr>\n",
       "    <tr>\n",
       "      <th>2</th>\n",
       "      <td>a black hole is a hole in space that is black ...</td>\n",
       "    </tr>\n",
       "    <tr>\n",
       "      <th>3</th>\n",
       "      <td>A supermassive object with gravitational pull ...</td>\n",
       "    </tr>\n",
       "    <tr>\n",
       "      <th>4</th>\n",
       "      <td>Black hole is a \"hole\" in the universe that ab...</td>\n",
       "    </tr>\n",
       "  </tbody>\n",
       "</table>\n",
       "</div>"
      ],
      "text/plain": [
       "                                    Paragraph style \n",
       "0                                      All Retention\n",
       "1  A black hole is an indefinite space. It is nam...\n",
       "2  a black hole is a hole in space that is black ...\n",
       "3  A supermassive object with gravitational pull ...\n",
       "4  Black hole is a \"hole\" in the universe that ab..."
      ]
     },
     "execution_count": 4,
     "metadata": {},
     "output_type": "execute_result"
    }
   ],
   "source": [
    "df.head()"
   ]
  },
  {
   "cell_type": "code",
   "execution_count": 5,
   "metadata": {},
   "outputs": [],
   "source": [
    "def remove_punctuation(str1): \n",
    "    \n",
    "    for char in str1.lower():\n",
    "        \n",
    "        if char in string.punctuation: \n",
    "            \n",
    "            str1 = str1.replace(char,\"\")          \n",
    "    \n",
    "    return str1"
   ]
  },
  {
   "cell_type": "code",
   "execution_count": 6,
   "metadata": {},
   "outputs": [],
   "source": [
    "assert remove_punctuation('Hey!!@#$%%%%*^') == 'Hey'"
   ]
  },
  {
   "cell_type": "code",
   "execution_count": 9,
   "metadata": {
    "scrolled": false
   },
   "outputs": [],
   "source": [
    "size = len(values)  # size holds the number of rows\n",
    "n=-1 # we want to start from cell 0, the first increment would make the -1 a 0\n",
    "lst_words = [0]\n",
    "\n",
    "while True:\n",
    "    n += 1\n",
    "    if n == size:\n",
    "        break \n",
    "    # inspect the next cell\n",
    "    #print (\"-\" * 40, \"cell \" + str(n), \"-\" * 40) \n",
    "    text = values[n][0]\n",
    "    text_str = str(text).lower()\n",
    "    no_punct_str = remove_punctuation(text_str)\n",
    "    \n",
    "    d = {} # initialize an empty dictionary\n",
    "    for word in no_punct_str.split():\n",
    "        try:\n",
    "            d[word] += 1 # the entry exists\n",
    "        except KeyError:\n",
    "            d[word] = 1 # a new entry\n",
    "    uqs = []  # would hold the list of the unique words for each cell\n",
    "    for k in d.keys():\n",
    "        if d[k] == 1:\n",
    "            uqs.append(k)\n",
    "    lst_words.append(len(uqs))\n",
    "\n",
    "    # printing the list of uniqe words.\n",
    "    #print (\"The text in this cell:\\n\", text, \"\\n\")\n",
    "    #print (\"unique words in this cell:\\n\", uqs, \"\\n\\n\")\n",
    "    #print(\"The number of unique words in this cell:\\n\", len(uqs),'\\n\\n')    "
   ]
  },
  {
   "cell_type": "code",
   "execution_count": 10,
   "metadata": {},
   "outputs": [
    {
     "data": {
      "text/html": [
       "<div>\n",
       "<style scoped>\n",
       "    .dataframe tbody tr th:only-of-type {\n",
       "        vertical-align: middle;\n",
       "    }\n",
       "\n",
       "    .dataframe tbody tr th {\n",
       "        vertical-align: top;\n",
       "    }\n",
       "\n",
       "    .dataframe thead th {\n",
       "        text-align: right;\n",
       "    }\n",
       "</style>\n",
       "<table border=\"1\" class=\"dataframe\">\n",
       "  <thead>\n",
       "    <tr style=\"text-align: right;\">\n",
       "      <th></th>\n",
       "      <th>Paragraph style</th>\n",
       "      <th>Unique Words</th>\n",
       "    </tr>\n",
       "  </thead>\n",
       "  <tbody>\n",
       "    <tr>\n",
       "      <th>0</th>\n",
       "      <td>All Retention</td>\n",
       "      <td>0</td>\n",
       "    </tr>\n",
       "    <tr>\n",
       "      <th>1</th>\n",
       "      <td>A black hole is an indefinite space. It is nam...</td>\n",
       "      <td>36</td>\n",
       "    </tr>\n",
       "    <tr>\n",
       "      <th>2</th>\n",
       "      <td>a black hole is a hole in space that is black ...</td>\n",
       "      <td>19</td>\n",
       "    </tr>\n",
       "    <tr>\n",
       "      <th>3</th>\n",
       "      <td>A supermassive object with gravitational pull ...</td>\n",
       "      <td>50</td>\n",
       "    </tr>\n",
       "    <tr>\n",
       "      <th>4</th>\n",
       "      <td>Black hole is a \"hole\" in the universe that ab...</td>\n",
       "      <td>60</td>\n",
       "    </tr>\n",
       "  </tbody>\n",
       "</table>\n",
       "</div>"
      ],
      "text/plain": [
       "                                    Paragraph style   Unique Words\n",
       "0                                      All Retention             0\n",
       "1  A black hole is an indefinite space. It is nam...            36\n",
       "2  a black hole is a hole in space that is black ...            19\n",
       "3  A supermassive object with gravitational pull ...            50\n",
       "4  Black hole is a \"hole\" in the universe that ab...            60"
      ]
     },
     "execution_count": 10,
     "metadata": {},
     "output_type": "execute_result"
    }
   ],
   "source": [
    "df.insert(1,'Unique Words', pd.Series(lst_words))\n",
    "df.head()\n",
    "# the get_values() method gives: gives [['All Retention']['A black hole ...], ['a black hole is a hole in space ...],...]\n",
    "#values = df.get_values()[1:] # gives [['A black hole ...], ['a black hole is a hole in space ...],...]"
   ]
  },
  {
   "cell_type": "code",
   "execution_count": 11,
   "metadata": {},
   "outputs": [],
   "source": [
    "# Export\n",
    "# df.to_excel('export.xlsx')"
   ]
  }
 ],
 "metadata": {
  "kernelspec": {
   "display_name": "Python 3",
   "language": "python",
   "name": "python3"
  },
  "language_info": {
   "codemirror_mode": {
    "name": "ipython",
    "version": 3
   },
   "file_extension": ".py",
   "mimetype": "text/x-python",
   "name": "python",
   "nbconvert_exporter": "python",
   "pygments_lexer": "ipython3",
   "version": "3.7.1"
  }
 },
 "nbformat": 4,
 "nbformat_minor": 2
}
